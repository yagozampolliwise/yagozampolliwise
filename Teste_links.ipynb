{
  "nbformat": 4,
  "nbformat_minor": 0,
  "metadata": {
    "colab": {
      "provenance": [],
      "authorship_tag": "ABX9TyP+luP2JqFGF2U9yidLV7Bg",
      "include_colab_link": true
    },
    "kernelspec": {
      "name": "python3",
      "display_name": "Python 3"
    },
    "language_info": {
      "name": "python"
    }
  },
  "cells": [
    {
      "cell_type": "markdown",
      "metadata": {
        "id": "view-in-github",
        "colab_type": "text"
      },
      "source": [
        "<a href=\"https://colab.research.google.com/github/yagozampolliwise/yagozampolliwise/blob/main/Teste_links.ipynb\" target=\"_parent\"><img src=\"https://colab.research.google.com/assets/colab-badge.svg\" alt=\"Open In Colab\"/></a>"
      ]
    },
    {
      "cell_type": "code",
      "source": [
        "!pip install pyngrok\n",
        "\n",
        "from pyngrok import ngrok\n",
        "\n",
        "# Inicie o serviço do ngrok\n",
        "ngrok_tunnel = ngrok.connect(8000)  # Substitua 8000 pela porta do seu aplicativo\n",
        "\n",
        "redirect_uri = ngrok_tunnel.public_url"
      ],
      "metadata": {
        "id": "5J4nSdG8MNO7"
      },
      "execution_count": null,
      "outputs": []
    },
    {
      "cell_type": "code",
      "source": [
        "from msal import PublicClientApplication\n",
        "import requests\n",
        "\n",
        "# Informações de autenticação\n",
        "client_id = '677f67bd-c88b-4e0a-8bc5-b47ddf579700'\n",
        "scopes = ['Files.Read']  # Escopos de permissão necessários\n",
        "redirect_uri = 'http://localhost:8000'  # URI de redirecionamento\n"
      ],
      "metadata": {
        "id": "P5UeDDU04Yeb"
      },
      "execution_count": 32,
      "outputs": []
    },
    {
      "cell_type": "code",
      "source": [
        "pca = PublicClientApplication(client_id, authority='https://login.microsoftonline.com/common')\n"
      ],
      "metadata": {
        "id": "ZXzgEtl1Dss7"
      },
      "execution_count": 33,
      "outputs": []
    },
    {
      "cell_type": "code",
      "source": [
        "auth_code = pca.get_authorization_request_url(scopes, redirect_uri=redirect_uri)\n",
        "\n",
        "# Use o link gerado para fazer login e conceder acesso ao aplicativo\n",
        "print('Siga este link para fazer login:')\n",
        "print(auth_code)"
      ],
      "metadata": {
        "colab": {
          "base_uri": "https://localhost:8080/"
        },
        "id": "CLitIFRCDup7",
        "outputId": "6ca766ed-c9a2-4561-9cc1-41098d5260ac"
      },
      "execution_count": 34,
      "outputs": [
        {
          "output_type": "stream",
          "name": "stdout",
          "text": [
            "Siga este link para fazer login:\n",
            "https://login.microsoftonline.com/common/oauth2/v2.0/authorize?client_id=677f67bd-c88b-4e0a-8bc5-b47ddf579700&response_type=code&redirect_uri=http%3A%2F%2Flocalhost%3A8000&scope=Files.Read+offline_access+openid+profile\n"
          ]
        }
      ]
    },
    {
      "cell_type": "code",
      "source": [
        "# Após fazer login e conceder acesso, você será redirecionado para a URI de redirecionamento\n",
        "# Copie a URL da barra de endereço do navegador após o redirecionamento e cole abaixo\n",
        "redirect_response = input('Uri de redirecionamento')\n",
        "\n",
        "# Troque o código de autorização por um token de acesso\n",
        "token_response = pca.acquire_token_by_authorization_code(redirect_response, scopes=scopes, redirect_uri=redirect_uri)\n",
        "\n",
        "# Obtenha o token de acesso\n",
        "access_token = token_response['access_token']"
      ],
      "metadata": {
        "colab": {
          "base_uri": "https://localhost:8080/",
          "height": 217
        },
        "id": "aR1NvD-TD2_I",
        "outputId": "144e7db1-6a97-4f80-b6b5-6340c50dc50e"
      },
      "execution_count": 26,
      "outputs": [
        {
          "name": "stdout",
          "output_type": "stream",
          "text": [
            "Uri de redirecionamentohttp://localhost/?code=M.C105_BL2.2.37249da2-3f14-4c48-cbaf-17681b01f547\n"
          ]
        },
        {
          "output_type": "error",
          "ename": "KeyError",
          "evalue": "ignored",
          "traceback": [
            "\u001b[0;31m---------------------------------------------------------------------------\u001b[0m",
            "\u001b[0;31mKeyError\u001b[0m                                  Traceback (most recent call last)",
            "\u001b[0;32m<ipython-input-26-c3f7b85cd0a2>\u001b[0m in \u001b[0;36m<cell line: 9>\u001b[0;34m()\u001b[0m\n\u001b[1;32m      7\u001b[0m \u001b[0;34m\u001b[0m\u001b[0m\n\u001b[1;32m      8\u001b[0m \u001b[0;31m# Obtenha o token de acesso\u001b[0m\u001b[0;34m\u001b[0m\u001b[0;34m\u001b[0m\u001b[0m\n\u001b[0;32m----> 9\u001b[0;31m \u001b[0maccess_token\u001b[0m \u001b[0;34m=\u001b[0m \u001b[0mtoken_response\u001b[0m\u001b[0;34m[\u001b[0m\u001b[0;34m'access_token'\u001b[0m\u001b[0;34m]\u001b[0m\u001b[0;34m\u001b[0m\u001b[0;34m\u001b[0m\u001b[0m\n\u001b[0m",
            "\u001b[0;31mKeyError\u001b[0m: 'access_token'"
          ]
        }
      ]
    },
    {
      "cell_type": "code",
      "source": [
        "client_id = '677f67bd-c88b-4e0a-8bc5-b47ddf579700'\n",
        "scopes = ['Files.Read']\n",
        "\n",
        "app = PublicClientApplication(client_id=client_id)"
      ],
      "metadata": {
        "id": "phz0kac_4h9y"
      },
      "execution_count": null,
      "outputs": []
    }
  ]
}